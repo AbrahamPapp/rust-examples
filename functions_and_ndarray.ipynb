{
 "cells": [
  {
   "cell_type": "code",
   "execution_count": 2,
   "id": "68cbcb0b-e44d-431e-8abe-5235a7f6b3cb",
   "metadata": {},
   "outputs": [],
   "source": [
    ":dep darn = {version = \"0.3.0\"}\n",
    ":dep plotly = {version = \"0.4.0\"}\n",
    ":dep nanoid = {version = \"0.3.0\"}\n",
    "    \n",
    "extern crate darn;\n",
    "extern crate plotly;\n",
    "extern crate nanoid;\n",
    "\n",
    "use plotly::{Plot, Scatter, Layout};\n",
    "use plotly::common::{Mode, Anchor, Orientation, Title};\n",
    "use plotly::layout::{Legend, Margin, Axis};\n",
    "use nanoid::nanoid;\n",
    "use std::fs;"
   ]
  },
  {
   "cell_type": "code",
   "execution_count": 3,
   "id": "66dff047-4be7-4cec-9a96-3c57ca1346f7",
   "metadata": {},
   "outputs": [],
   "source": [
    "fn show_plot(plot: Plot) {\n",
    "    let plotly_file = \"temp_plot.html\";\n",
    "    plot.to_html(plotly_file);\n",
    "    let plotly_contents = fs::read_to_string(plotly_file).unwrap();\n",
    "    fs::remove_file(plotly_file);\n",
    "    \n",
    "    let start_bytes = plotly_contents\n",
    "        .find(\"<div id=\\\"plotly-html-element\\\" class=\\\"plotly-graph-div\\\"\")\n",
    "        .unwrap_or(0);\n",
    "    \n",
    "    let end_bytes = plotly_contents\n",
    "        .find(\"\\n</div>\\n</body>\\n</html>\")\n",
    "        .unwrap_or(plotly_contents.len());\n",
    "    \n",
    "    println!(\"EVCXR_BEGIN_CONTENT text/html\\n{}\\nEVCXR_END_CONTENT\",\n",
    "    format!(\"<div>{}</div>\",\n",
    "        &plotly_contents[start_bytes..end_bytes]\n",
    "        .replace(\"plotly-html-element\", Box::leak(nanoid!\n",
    "().into_boxed_str()))));\n",
    "}"
   ]
  },
  {
   "cell_type": "code",
   "execution_count": 4,
   "id": "cb5328b1-4358-49f6-b281-dadfd364416e",
   "metadata": {},
   "outputs": [],
   "source": [
    "let layout = Layout::new()\n",
    "    .xaxis(Axis::new().title(Title::new(\"x axis\")))\n",
    "    .yaxis(Axis::new().title(Title::new(\"y axis\")))\n",
    "    .margin(Margin::new().top(0).bottom(40).left(40).right(10))\n",
    "    .legend(Legend::new().x(0.5).y(1.1)\n",
    "    .orientation(Orientation::Horizontal).x_anchor(Anchor::Center));\n",
    "let trace1 = Scatter::new(vec![1, 2, 3, 4], vec![10, 15, 13, 17])\n",
    "    .name(\"trace1\")\n",
    "    .mode(Mode::Markers);\n",
    "let trace2 = Scatter::new(vec![2, 3, 4, 5], vec![16, 5, 11, 9])\n",
    "    .name(\"trace2\")\n",
    "    .mode(Mode::Lines);\n",
    "let trace3 = Scatter::new(vec![1, 2, 3, 4], vec![12, 9, 15, 12])\n",
    "    .name(\"trace3\");\n",
    "\n",
    "let mut plot = Plot::new();\n",
    "plot.set_layout(layout);\n",
    "plot.add_trace(trace1);\n",
    "plot.add_trace(trace2);\n",
    "plot.add_trace(trace3);"
   ]
  },
  {
   "cell_type": "code",
   "execution_count": 5,
   "id": "c40f1627-918f-43fa-b10f-310186c40ecc",
   "metadata": {},
   "outputs": [
    {
     "data": {
      "text/html": [
       "<div><div id=\"Vkol-OHkoqLJSuAxTEXO5\" class=\"plotly-graph-div\" style=\"height:100%; width:100%;\"></div>\n",
       "    <div ><img id=\"image-export\" class=\"plotly-graph-div\" hidden></img></div>\n",
       "    <script type=\"text/javascript\">\n",
       "                \n",
       "                window.PLOTLYENV=window.PLOTLYENV || {};                    \n",
       "                if (document.getElementById(\"Vkol-OHkoqLJSuAxTEXO5\")) {\n",
       "\n",
       "                    var d3 = Plotly.d3;\n",
       "                    var image_element= d3.select('#image-export');\n",
       "\n",
       "                    var trace_0 = {\"type\":\"scatter\",\"x\":[1,2,3,4],\"y\":[10,15,13,17],\"name\":\"trace1\",\"mode\":\"markers\"};\n",
       "var trace_1 = {\"type\":\"scatter\",\"x\":[2,3,4,5],\"y\":[16,5,11,9],\"name\":\"trace2\",\"mode\":\"lines\"};\n",
       "var trace_2 = {\"type\":\"scatter\",\"x\":[1,2,3,4],\"y\":[12,9,15,12],\"name\":\"trace3\"};\n",
       "\n",
       "var data = [trace_0,trace_1,trace_2];\n",
       "var layout = {\"legend\":{\"orientation\":\"h\",\"x\":0.5,\"xanchor\":\"center\",\"y\":1.1},\"margin\":{\"l\":40,\"r\":10,\"t\":0,\"b\":40},\"xaxis\":{\"title\":{\"text\":\"x axis\"}},\"yaxis\":{\"title\":{\"text\":\"y axis\"}}};\n",
       "\n",
       "\n",
       "                    Plotly.newPlot('Vkol-OHkoqLJSuAxTEXO5', data, layout,\n",
       "                        {\"responsive\": true})\n",
       "                        .then(\n",
       "                            function(gd) {\n",
       "                              Plotly.toImage(gd,{height:0,width:0})\n",
       "                                 .then(\n",
       "                                     function(url) {\n",
       "                                         if(false) {\n",
       "                                             image_element.attr(\"src\", url);\n",
       "                                             return Plotly.toImage(gd,{format:'',height:0,width:0});\n",
       "                                         }\n",
       "                                    })\n",
       "                            });\n",
       "\n",
       "                };\n",
       "\n",
       "\n",
       "    </script></div>"
      ]
     },
     "execution_count": 5,
     "metadata": {},
     "output_type": "execute_result"
    }
   ],
   "source": [
    "show_plot(plot);"
   ]
  },
  {
   "cell_type": "code",
   "execution_count": 7,
   "id": "e08545e4-aeda-488b-933c-03507fd681c2",
   "metadata": {},
   "outputs": [],
   "source": [
    ":dep ndarray = {version = \"0.13.1\"}\n",
    "extern crate ndarray;"
   ]
  },
  {
   "cell_type": "code",
   "execution_count": 8,
   "id": "e089cb1c-b61d-4b36-9b02-dd7eab18116d",
   "metadata": {},
   "outputs": [],
   "source": [
    "use ndarray::prelude::*;"
   ]
  },
  {
   "cell_type": "code",
   "execution_count": null,
   "id": "9df0e1b2-8d9b-45dd-8dd7-21da841e3858",
   "metadata": {},
   "outputs": [],
   "source": []
  }
 ],
 "metadata": {
  "kernelspec": {
   "display_name": "Rust",
   "language": "rust",
   "name": "rust"
  },
  "language_info": {
   "codemirror_mode": "rust",
   "file_extension": ".rs",
   "mimetype": "text/rust",
   "name": "Rust",
   "pygment_lexer": "rust",
   "version": ""
  }
 },
 "nbformat": 4,
 "nbformat_minor": 5
}
